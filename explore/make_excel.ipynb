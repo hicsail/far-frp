{
 "cells": [
  {
   "cell_type": "code",
   "execution_count": 9,
   "id": "e627ca2c-80c9-43da-9db2-dd21c79e5167",
   "metadata": {},
   "outputs": [],
   "source": [
    "import pandas as pd"
   ]
  },
  {
   "cell_type": "code",
   "execution_count": 10,
   "id": "5f239106-befd-4f47-b2ed-f6db4db580cf",
   "metadata": {},
   "outputs": [
    {
     "data": {
      "text/plain": [
       "ID                                                                                  int64\n",
       "Scholarly & creative work type                                                     object\n",
       "Reporting date 1                                                                   object\n",
       "Reporting date 2                                                                  float64\n",
       "Abstract OR Description                                                            object\n",
       "Acceptance date OR Date of acceptance                                              object\n",
       "Addresses                                                                          object\n",
       "Altmetric attention score                                                         float64\n",
       "File(s) confidential                                                              float64\n",
       "Associated authors                                                                float64\n",
       "Associated Identifiers OR Associated identifiers                                  float64\n",
       "Author's licence                                                                  float64\n",
       "Authors OR Patent owners OR Presenters                                             object\n",
       "URL OR Author URL                                                                  object\n",
       "Collections                                                                       float64\n",
       "Commissioning body                                                                float64\n",
       "Confidential report                                                               float64\n",
       "File(s) confidentiality reason                                                    float64\n",
       "DOI                                                                                object\n",
       "Edition                                                                           float64\n",
       "Editors OR Supervisors                                                             object\n",
       "eISSN                                                                              object\n",
       "File(s) embargo release date                                                      float64\n",
       "External identifiers                                                               object\n",
       "Field citation ratio                                                              float64\n",
       "Filed date OR Date submitted                                                       object\n",
       "Conference finish date OR Expiration date                                          object\n",
       "Funding                                                                            object\n",
       "ISBN-10                                                                            object\n",
       "ISBN-13                                                                            object\n",
       "Is compliant with institutional policy                                            float64\n",
       "File(s) embargoed                                                                 float64\n",
       "Open access                                                                        object\n",
       "ISSN                                                                               object\n",
       "Issue                                                                              object\n",
       "Published proceedings OR Journal                                                   object\n",
       "Keywords OR Labels                                                                 object\n",
       "Language                                                                           object\n",
       "Conference place OR Country OR Country issuing patent OR Presentation location     object\n",
       "Medium                                                                            float64\n",
       "Conference name OR Presented at OR Meeting or conference                           object\n",
       "Notes                                                                              object\n",
       "Chapter number OR Article number OR Application number OR Report number            object\n",
       "Number of chapters OR Number of chapters in book                                  float64\n",
       "OA location file version                                                          float64\n",
       "OA location URL                                                                   float64\n",
       "Online publication date                                                            object\n",
       "Open access status                                                                float64\n",
       "Pagination (start page)                                                            object\n",
       "Pagination (end page)                                                              object\n",
       "Pagination (page count)                                                           float64\n",
       "Book title OR Report title OR Preprint server                                      object\n",
       "Patent number                                                                      object\n",
       "Patent status                                                                     float64\n",
       "PII                                                                                object\n",
       "Place of publication                                                               object\n",
       "Preprint for                                                                       object\n",
       "Publication date OR Date awarded OR Presentation date                              object\n",
       "Status                                                                             object\n",
       "Public URL                                                                        float64\n",
       "Publisher                                                                          object\n",
       "Publisher licence                                                                  object\n",
       "Publisher URL                                                                      object\n",
       "Record created at source                                                           object\n",
       "Record made publicly available                                                     object\n",
       "Relative citation ratio                                                           float64\n",
       "Availability                                                                      float64\n",
       "Series                                                                             object\n",
       "Conference start date OR Awarded date                                              object\n",
       "Thesis type                                                                        object\n",
       "Title OR Chapter title                                                             object\n",
       "Sub types                                                                          object\n",
       "Volume                                                                             object\n",
       "Academic Analytics Citation Count                                                 float64\n",
       "BISAC                                                                             float64\n",
       "BISACCode                                                                         float64\n",
       "Book type                                                                          object\n",
       "Degree discipline                                                                  object\n",
       "Degree granting institution                                                        object\n",
       "Degree name                                                                        object\n",
       "Description of \"Other\" type                                                       float64\n",
       "IsChapter                                                                         float64\n",
       "Presentation type                                                                  object\n",
       "Citation count                                                                    float64\n",
       "Indexed in DOAJ                                                                    object\n",
       "DOAJ CC Licence                                                                    object\n",
       "Files in OpenBU RT2                                                               float64\n",
       "OpenBU RT2 public URL                                                              object\n",
       "Deposited to OpenBU RT2                                                            object\n",
       "Item status in OpenBU RT2                                                          object\n",
       "Proprietary ID                                                                     object\n",
       "Source                                                                             object\n",
       "Canonical journal title                                                            object\n",
       "dtype: object"
      ]
     },
     "execution_count": 10,
     "metadata": {},
     "output_type": "execute_result"
    }
   ],
   "source": [
    "data = pd.read_csv('./data/scholarly.csv')\n",
    "pd.set_option('display.max_rows', None)\n",
    "data.dtypes"
   ]
  },
  {
   "cell_type": "code",
   "execution_count": 14,
   "id": "0e27ee1a-69ce-4194-83f2-9bdf7fb1a169",
   "metadata": {},
   "outputs": [
    {
     "name": "stderr",
     "output_type": "stream",
     "text": [
      "/tmp/ipykernel_23286/282321274.py:2: SettingWithCopyWarning: \n",
      "A value is trying to be set on a copy of a slice from a DataFrame.\n",
      "Try using .loc[row_indexer,col_indexer] = value instead\n",
      "\n",
      "See the caveats in the documentation: https://pandas.pydata.org/pandas-docs/stable/user_guide/indexing.html#returning-a-view-versus-a-copy\n",
      "  data['Reporting date 1'] = data['Reporting date 1'].astype('string')\n",
      "/tmp/ipykernel_23286/282321274.py:3: SettingWithCopyWarning: \n",
      "A value is trying to be set on a copy of a slice from a DataFrame.\n",
      "Try using .loc[row_indexer,col_indexer] = value instead\n",
      "\n",
      "See the caveats in the documentation: https://pandas.pydata.org/pandas-docs/stable/user_guide/indexing.html#returning-a-view-versus-a-copy\n",
      "  data['Reporting date 1'] = pd.to_datetime(data['Reporting date 1'], format='%d/%m/%Y')\n"
     ]
    }
   ],
   "source": [
    "data = data[['Reporting date 1', 'Authors OR Patent owners OR Presenters', 'Publisher', 'Title OR Chapter title']]\n",
    "data['Reporting date 1'] = data['Reporting date 1'].astype('string')\n",
    "data['Reporting date 1'] = pd.to_datetime(data['Reporting date 1'], format='%d/%m/%Y')"
   ]
  },
  {
   "cell_type": "code",
   "execution_count": 15,
   "id": "176dd2eb-df97-4480-8b06-2d2d9461ba88",
   "metadata": {},
   "outputs": [],
   "source": [
    "year = 2022\n",
    "data = data[data['Reporting date 1'].dt.year >= year]"
   ]
  },
  {
   "cell_type": "code",
   "execution_count": 16,
   "id": "b032a87e-e99b-4d23-8f82-0709e1e96c32",
   "metadata": {},
   "outputs": [],
   "source": [
    "data.to_excel('output.xlsx')"
   ]
  },
  {
   "cell_type": "code",
   "execution_count": null,
   "id": "591f4c58-0e21-4392-af99-823b54ce24ab",
   "metadata": {},
   "outputs": [],
   "source": []
  }
 ],
 "metadata": {
  "kernelspec": {
   "display_name": "Python 3 (ipykernel)",
   "language": "python",
   "name": "python3"
  },
  "language_info": {
   "codemirror_mode": {
    "name": "ipython",
    "version": 3
   },
   "file_extension": ".py",
   "mimetype": "text/x-python",
   "name": "python",
   "nbconvert_exporter": "python",
   "pygments_lexer": "ipython3",
   "version": "3.9.13"
  }
 },
 "nbformat": 4,
 "nbformat_minor": 5
}
